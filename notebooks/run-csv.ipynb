{
 "cells": [
  {
   "cell_type": "markdown",
   "metadata": {},
   "source": [
    "# CSV Eval\n",
    "\n",
    "Runs the agent against a CSV with a single \"question\" column. Writes out another CSV with the \"answer\" column included.\n"
   ]
  },
  {
   "cell_type": "code",
   "execution_count": null,
   "metadata": {},
   "outputs": [],
   "source": [
    "!rm -rf temp\n",
    "!git clone https://github.com/docugami/KG-RAG-datasets.git temp"
   ]
  },
  {
   "cell_type": "code",
   "execution_count": 2,
   "metadata": {},
   "outputs": [],
   "source": [
    "from datetime import datetime\n",
    "import os\n",
    "import pandas as pd\n",
    "from pathlib import Path\n",
    "\n",
    "INPUT_CSV_PATH = Path(os.getcwd()) / \"temp/sec-10-q/data/raw_questions/questions_mini.csv\"\n",
    "EVAL_NAME = INPUT_CSV_PATH.stem + \"_\" + datetime.now().strftime(\"%Y-%m-%d\")\n",
    "OUTPUT_CSV_PATH = INPUT_CSV_PATH.with_name(EVAL_NAME + \"_answers\" + INPUT_CSV_PATH.suffix)"
   ]
  },
  {
   "cell_type": "markdown",
   "metadata": {},
   "source": [
    "## Create Docugami Agent"
   ]
  },
  {
   "cell_type": "code",
   "execution_count": 6,
   "metadata": {},
   "outputs": [],
   "source": [
    "from docugami_kg_rag.agent import agent as docugami_agent\n",
    "from langchain_core.messages import HumanMessage\n",
    "\n",
    "\n",
    "def predict_docugami_agent(question: str) -> str:\n",
    "    return docugami_agent.invoke(\n",
    "        {\n",
    "            \"messages\": [HumanMessage(content=question)],\n",
    "        }\n",
    "    )"
   ]
  },
  {
   "cell_type": "code",
   "execution_count": 7,
   "metadata": {},
   "outputs": [
    {
     "name": "stdout",
     "output_type": "stream",
     "text": [
      "Output CSV created at: /root/Source/github/langchain-template-docugami-kg-rag/notebooks/temp/sec-10-q/data/raw_questions/questions_mini_2024-03-28_answers.csv\n"
     ]
    }
   ],
   "source": [
    "os.environ['LANGCHAIN_PROJECT'] = EVAL_NAME\n",
    "\n",
    "# Eval the CSV\n",
    "df = pd.read_csv(INPUT_CSV_PATH)\n",
    "if \"Question\" in df.columns:\n",
    "    # Apply the predict function to each question and create a new column for the answers\n",
    "    df[\"Answer\"] = df[\"Question\"].apply(predict_docugami_agent)\n",
    "    # Write the dataframe with questions and answers to the output CSV\n",
    "    df.to_csv(OUTPUT_CSV_PATH, index=False)\n",
    "    print(f\"Output CSV created at: {OUTPUT_CSV_PATH}\")\n",
    "else:\n",
    "    print(\"Error: The 'Question' column does not exist in the input CSV.\")"
   ]
  }
 ],
 "metadata": {
  "kernelspec": {
   "display_name": "docugami-kg-rag-sMPCFT4i-py3.9",
   "language": "python",
   "name": "python3"
  },
  "language_info": {
   "codemirror_mode": {
    "name": "ipython",
    "version": 3
   },
   "file_extension": ".py",
   "mimetype": "text/x-python",
   "name": "python",
   "nbconvert_exporter": "python",
   "pygments_lexer": "ipython3",
   "version": "3.9.16"
  }
 },
 "nbformat": 4,
 "nbformat_minor": 2
}
