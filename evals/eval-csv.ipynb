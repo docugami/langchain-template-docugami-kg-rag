{
 "cells": [
  {
   "cell_type": "markdown",
   "metadata": {},
   "source": [
    "# CSV Eval\n",
    "\n",
    "Runs eval against a generic CSV file with questions\n"
   ]
  },
  {
   "cell_type": "code",
   "execution_count": 1,
   "metadata": {},
   "outputs": [],
   "source": [
    "import os\n",
    "import pandas as pd\n",
    "from pathlib import Path\n",
    "\n",
    "INPUT_CSV_PATH = Path(os.getcwd()) / \"temp/questions.csv\"\n",
    "OUTPUT_CSV_PATH = INPUT_CSV_PATH.with_name(INPUT_CSV_PATH.stem + '_answers' + INPUT_CSV_PATH.suffix)"
   ]
  },
  {
   "cell_type": "markdown",
   "metadata": {},
   "source": [
    "## Create Docugami Agent"
   ]
  },
  {
   "cell_type": "code",
   "execution_count": 2,
   "metadata": {},
   "outputs": [],
   "source": [
    "from docugami_langchain.agents import ReActAgent\n",
    "from docugami_kg_rag.agent import agent as docugami_agent\n",
    "\n",
    "def predict_docugami_agent(question: str) -> str:\n",
    "    result = docugami_agent.invoke(\n",
    "        {\n",
    "            \"question\": question,\n",
    "            \"chat_history\": [],\n",
    "            \"agent_outcome\": None,\n",
    "            \"intermediate_steps\": [],\n",
    "        }\n",
    "    )\n",
    "\n",
    "    return ReActAgent.to_human_readable(result)"
   ]
  },
  {
   "cell_type": "code",
   "execution_count": 3,
   "metadata": {},
   "outputs": [
    {
     "name": "stdout",
     "output_type": "stream",
     "text": [
      "Output CSV created at: /root/Source/github/langchain-template-docugami-kg-rag/evals/temp/questions_answers.csv\n"
     ]
    }
   ],
   "source": [
    "os.environ['LANGCHAIN_PROJECT'] = 'adp_eval_3_11'\n",
    "\n",
    "# Eval the CSV\n",
    "df = pd.read_csv(INPUT_CSV_PATH)\n",
    "if \"question\" in df.columns:\n",
    "    # Apply the predict function to each question and create a new column for the answers\n",
    "    df[\"answer\"] = df[\"question\"].apply(predict_docugami_agent)\n",
    "    # Write the dataframe with questions and answers to the output CSV\n",
    "    df.to_csv(OUTPUT_CSV_PATH, index=False)\n",
    "    print(f\"Output CSV created at: {OUTPUT_CSV_PATH}\")\n",
    "else:\n",
    "    print(\"Error: The 'question' column does not exist in the input CSV.\")"
   ]
  }
 ],
 "metadata": {
  "kernelspec": {
   "display_name": "docugami-kg-rag-sMPCFT4i-py3.9",
   "language": "python",
   "name": "python3"
  },
  "language_info": {
   "codemirror_mode": {
    "name": "ipython",
    "version": 3
   },
   "file_extension": ".py",
   "mimetype": "text/x-python",
   "name": "python",
   "nbconvert_exporter": "python",
   "pygments_lexer": "ipython3",
   "version": "3.9.16"
  }
 },
 "nbformat": 4,
 "nbformat_minor": 2
}
