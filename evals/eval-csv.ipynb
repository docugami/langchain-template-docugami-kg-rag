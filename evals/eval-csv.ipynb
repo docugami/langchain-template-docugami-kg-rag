{
 "cells": [
  {
   "cell_type": "markdown",
   "metadata": {},
   "source": [
    "# CSV Eval\n",
    "\n",
    "Runs eval against a generic CSV file with questions\n"
   ]
  },
  {
   "cell_type": "code",
   "execution_count": 3,
   "metadata": {},
   "outputs": [],
   "source": [
    "import os\n",
    "from pathlib import Path\n",
    "\n",
    "CSV_PATH = Path(os.getcwd()) / \"temp/questions.csv\""
   ]
  },
  {
   "cell_type": "markdown",
   "metadata": {},
   "source": [
    "## Create Docugami Agent"
   ]
  },
  {
   "cell_type": "code",
   "execution_count": 13,
   "metadata": {},
   "outputs": [],
   "source": [
    "from docugami_langchain.agents import ReActAgent\n",
    "from docugami_kg_rag.agent import agent as docugami_agent\n",
    "\n",
    "\n",
    "def predict_docugami_agent(question: str) -> dict:\n",
    "    result = docugami_agent.invoke(\n",
    "        {\n",
    "            \"question\": question,\n",
    "            \"chat_history\": [],\n",
    "            \"agent_outcome\": None,\n",
    "            \"intermediate_steps\": [],\n",
    "        }\n",
    "    )\n",
    "\n",
    "    return ReActAgent.to_human_readable(result)"
   ]
  },
  {
   "cell_type": "code",
   "execution_count": 15,
   "metadata": {},
   "outputs": [
    {
     "data": {
      "text/plain": [
       "\"I couldn't find the answer in this document set.\""
      ]
     },
     "execution_count": 15,
     "metadata": {},
     "output_type": "execute_result"
    }
   ],
   "source": [
    "# Test the agent to make sure it is working\n",
    "predict_docugami_agent(\"How much did Microsoft spend for opex in the latest quarter?\")"
   ]
  }
 ],
 "metadata": {
  "kernelspec": {
   "display_name": "docugami-kg-rag-sMPCFT4i-py3.9",
   "language": "python",
   "name": "python3"
  },
  "language_info": {
   "codemirror_mode": {
    "name": "ipython",
    "version": 3
   },
   "file_extension": ".py",
   "mimetype": "text/x-python",
   "name": "python",
   "nbconvert_exporter": "python",
   "pygments_lexer": "ipython3",
   "version": "3.9.16"
  }
 },
 "nbformat": 4,
 "nbformat_minor": 2
}
